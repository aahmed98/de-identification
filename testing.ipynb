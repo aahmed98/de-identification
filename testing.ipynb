{
 "cells": [
  {
   "cell_type": "markdown",
   "metadata": {},
   "source": [
    "## Step 1: Pre-Preprocessing"
   ]
  },
  {
   "cell_type": "code",
   "execution_count": 1,
   "metadata": {},
   "outputs": [
    {
     "name": "stderr",
     "output_type": "stream",
     "text": [
      "Using TensorFlow backend.\n"
     ]
    }
   ],
   "source": [
    "# import preprocessing code\n",
    "from src.preprocess import PreProcessor, df_to_train_set"
   ]
  },
  {
   "cell_type": "code",
   "execution_count": 2,
   "metadata": {},
   "outputs": [],
   "source": [
    "# save paths to the available datasets\n",
    "from typing import NamedTuple, List\n",
    "\n",
    "class Dataset(NamedTuple):\n",
    "    \"\"\"\n",
    "    Interface for accessing data folders.\n",
    "    \"\"\"\n",
    "    title: str\n",
    "    preprocessed_folder: str\n",
    "    raw_folders: List[str]\n",
    "\n",
    "SAMPLE_DATA = Dataset(\n",
    "    title = \"sample_data\",\n",
    "    preprocessed_folder = \"../data/preprocessed/sample_data/\",\n",
    "    raw_folders = [\"docs/Track1-de-indentification/PHI/\"]\n",
    ")\n",
    "\n",
    "GOLD_1 = Dataset(\n",
    "    title = \"gold_1\",\n",
    "    preprocessed_folder = \"../data/preprocessed/gold_1/\",\n",
    "    raw_folders = [\"../data/raw/training-PHI-Gold-Set1/\"]\n",
    ")\n",
    "\n",
    "GOLD_FULL = Dataset(\n",
    "    title = \"gold_full\",\n",
    "    preprocessed_folder = \"../data/preprocessed/gold_full/\",\n",
    "    raw_folders = [\"../data/raw/training-PHI-Gold-Set1/\",\"../data/raw/training-PHI-Gold-Set2/\"]\n",
    ")\n",
    "\n",
    "GOLD_TEST = Dataset(\n",
    "    title = \"gold_test\",\n",
    "    preprocessed_folder = \"../data/preprocessed/gold_full/\",\n",
    "    raw_folders = [\"../data/raw/testing-PHI-Gold-fixed/\"]\n",
    ")\n",
    "\n",
    "DATASETS = [SAMPLE_DATA,GOLD_1,GOLD_FULL, GOLD_TEST]"
   ]
  },
  {
   "cell_type": "markdown",
   "metadata": {},
   "source": [
    "## Step 2: Preprocessing"
   ]
  },
  {
   "cell_type": "code",
   "execution_count": 7,
   "metadata": {},
   "outputs": [],
   "source": [
    "# pick dataset and define loading boolean\n",
    "train_data = DATASETS[2]\n",
    "test_data = DATASETS[3]\n",
    "isLoading = False"
   ]
  },
  {
   "cell_type": "code",
   "execution_count": 8,
   "metadata": {},
   "outputs": [
    {
     "name": "stderr",
     "output_type": "stream",
     "text": [
      "  0% |                                                                        |\r"
     ]
    },
    {
     "name": "stdout",
     "output_type": "stream",
     "text": [
      "Preprocessing data...\n"
     ]
    },
    {
     "name": "stderr",
     "output_type": "stream",
     "text": [
      "100% |########################################################################|\n"
     ]
    },
    {
     "name": "stdout",
     "output_type": "stream",
     "text": [
      "# of Tag Processing Errors:  48\n",
      "Files with errors:  ['226-02.xml', '226-04.xml', '254-05.xml', '255-03.xml', '256-01.xml', '256-03.xml', '257-04.xml', '259-04.xml', '270-04.xml', '272-01.xml', '272-03.xml', '272-04.xml', '274-02.xml', '274-03.xml', '278-03.xml', '283-04.xml', '287-02.xml', '287-03.xml', '291-01.xml', '320-01.xml', '329-04.xml', '332-05.xml', '335-03.xml', '336-03.xml', '336-04.xml', '338-03.xml', '338-05.xml', '356-04.xml', '357-03.xml', '357-05.xml', '361-01.xml', '361-03.xml', '361-04.xml', '361-05.xml', '367-02.xml', '392-03.xml', '392-04.xml', '395-05.xml', '400-05.xml', '100-05.xml', '123-04.xml', '124-04.xml', '129-05.xml', '152-02.xml', '155-05.xml', '179-01.xml', '188-05.xml', '189-03.xml']\n",
      "Shape of X:  (33807, 1567)\n",
      "Shape of y:  (33807, 1567)\n",
      "Preprocessing complete.\n",
      "max length:  1567\n"
     ]
    }
   ],
   "source": [
    "# attach data to PreProcessor object.\n",
    "pp = PreProcessor(train_data.title)\n",
    "if isLoading:\n",
    "    X_train,y_train,df_train = pp.get_data(train_data.preprocessed_folder,isLoading = isLoading)\n",
    "else:\n",
    "    X_train,y_train,df_train = pp.get_data(train_data.raw_folders,isLoading = isLoading)\n",
    "print(\"max length: \",pp.max_len)"
   ]
  },
  {
   "cell_type": "code",
   "execution_count": 9,
   "metadata": {
    "scrolled": true
   },
   "outputs": [
    {
     "data": {
      "text/html": [
       "<div>\n",
       "<style scoped>\n",
       "    .dataframe tbody tr th:only-of-type {\n",
       "        vertical-align: middle;\n",
       "    }\n",
       "\n",
       "    .dataframe tbody tr th {\n",
       "        vertical-align: top;\n",
       "    }\n",
       "\n",
       "    .dataframe thead th {\n",
       "        text-align: right;\n",
       "    }\n",
       "</style>\n",
       "<table border=\"1\" class=\"dataframe\">\n",
       "  <thead>\n",
       "    <tr style=\"text-align: right;\">\n",
       "      <th></th>\n",
       "      <th>docid</th>\n",
       "      <th>sentence</th>\n",
       "      <th>sentence_ids</th>\n",
       "      <th>labels</th>\n",
       "      <th>labels_ids</th>\n",
       "      <th>characters</th>\n",
       "      <th>padded_sentence</th>\n",
       "      <th>padded_labels</th>\n",
       "    </tr>\n",
       "  </thead>\n",
       "  <tbody>\n",
       "    <tr>\n",
       "      <th>0</th>\n",
       "      <td>220-01</td>\n",
       "      <td>[Record, date, :, 2067, -, 05, -, 03, Narrativ...</td>\n",
       "      <td>[13111, 22704, 19385, 23427, 2069, 13297, 2069...</td>\n",
       "      <td>[O, O, O, B-DATE, I-DATE, I-DATE, I-DATE, I-DA...</td>\n",
       "      <td>[1, 1, 1, 33, 47, 47, 47, 47, 1, 1, 30, 1, 1, ...</td>\n",
       "      <td>[(3, 9), (10, 14), (14, 15), (16, 20), (20, 21...</td>\n",
       "      <td>[13111, 22704, 19385, 23427, 2069, 13297, 2069...</td>\n",
       "      <td>[1, 1, 1, 33, 47, 47, 47, 47, 1, 1, 30, 1, 1, ...</td>\n",
       "    </tr>\n",
       "    <tr>\n",
       "      <th>1</th>\n",
       "      <td>220-01</td>\n",
       "      <td>[They, called, us, and, we, increased, her, HC...</td>\n",
       "      <td>[3525, 18585, 7421, 10625, 20307, 22106, 4650,...</td>\n",
       "      <td>[O, O, O, O, O, O, O, O, O, O, O, O, O, O, O, ...</td>\n",
       "      <td>[1, 1, 1, 1, 1, 1, 1, 1, 1, 1, 1, 1, 1, 1, 1, ...</td>\n",
       "      <td>[(149, 153), (154, 160), (161, 163), (164, 167...</td>\n",
       "      <td>[3525, 18585, 7421, 10625, 20307, 22106, 4650,...</td>\n",
       "      <td>[1, 1, 1, 1, 1, 1, 1, 1, 1, 1, 1, 1, 1, 1, 1, ...</td>\n",
       "    </tr>\n",
       "    <tr>\n",
       "      <th>2</th>\n",
       "      <td>220-01</td>\n",
       "      <td>[Saw, Dr, Oakley, 4, /, 5, /, 67, -, she, was,...</td>\n",
       "      <td>[447, 11298, 862, 19246, 15876, 16528, 15876, ...</td>\n",
       "      <td>[O, O, B-DOCTOR, B-DATE, I-DATE, I-DATE, I-DAT...</td>\n",
       "      <td>[1, 1, 12, 33, 47, 47, 47, 47, 1, 1, 1, 1, 1, ...</td>\n",
       "      <td>[(283, 286), (287, 289), (290, 296), (297, 298...</td>\n",
       "      <td>[447, 11298, 862, 19246, 15876, 16528, 15876, ...</td>\n",
       "      <td>[1, 1, 12, 33, 47, 47, 47, 47, 1, 1, 1, 1, 1, ...</td>\n",
       "    </tr>\n",
       "    <tr>\n",
       "      <th>3</th>\n",
       "      <td>220-01</td>\n",
       "      <td>[To, f, /, u, 7, /, 67, .]</td>\n",
       "      <td>[19085, 5148, 15876, 19381, 14960, 15876, 1157...</td>\n",
       "      <td>[O, O, O, O, B-DATE, I-DATE, I-DATE, O]</td>\n",
       "      <td>[1, 1, 1, 1, 33, 47, 47, 1]</td>\n",
       "      <td>[(356, 358), (359, 360), (360, 361), (361, 362...</td>\n",
       "      <td>[19085, 5148, 15876, 19381, 14960, 15876, 1157...</td>\n",
       "      <td>[1, 1, 1, 1, 33, 47, 47, 1, 0, 0, 0, 0, 0, 0, ...</td>\n",
       "    </tr>\n",
       "    <tr>\n",
       "      <th>4</th>\n",
       "      <td>220-01</td>\n",
       "      <td>[No, CP, ', s, since, last, admit, .]</td>\n",
       "      <td>[7499, 12272, 24817, 16949, 5713, 21909, 12781...</td>\n",
       "      <td>[O, O, O, O, O, O, O, O]</td>\n",
       "      <td>[1, 1, 1, 1, 1, 1, 1, 1]</td>\n",
       "      <td>[(370, 372), (373, 375), (375, 376), (376, 377...</td>\n",
       "      <td>[7499, 12272, 24817, 16949, 5713, 21909, 12781...</td>\n",
       "      <td>[1, 1, 1, 1, 1, 1, 1, 1, 0, 0, 0, 0, 0, 0, 0, ...</td>\n",
       "    </tr>\n",
       "  </tbody>\n",
       "</table>\n",
       "</div>"
      ],
      "text/plain": [
       "    docid                                           sentence  \\\n",
       "0  220-01  [Record, date, :, 2067, -, 05, -, 03, Narrativ...   \n",
       "1  220-01  [They, called, us, and, we, increased, her, HC...   \n",
       "2  220-01  [Saw, Dr, Oakley, 4, /, 5, /, 67, -, she, was,...   \n",
       "3  220-01                         [To, f, /, u, 7, /, 67, .]   \n",
       "4  220-01              [No, CP, ', s, since, last, admit, .]   \n",
       "\n",
       "                                        sentence_ids  \\\n",
       "0  [13111, 22704, 19385, 23427, 2069, 13297, 2069...   \n",
       "1  [3525, 18585, 7421, 10625, 20307, 22106, 4650,...   \n",
       "2  [447, 11298, 862, 19246, 15876, 16528, 15876, ...   \n",
       "3  [19085, 5148, 15876, 19381, 14960, 15876, 1157...   \n",
       "4  [7499, 12272, 24817, 16949, 5713, 21909, 12781...   \n",
       "\n",
       "                                              labels  \\\n",
       "0  [O, O, O, B-DATE, I-DATE, I-DATE, I-DATE, I-DA...   \n",
       "1  [O, O, O, O, O, O, O, O, O, O, O, O, O, O, O, ...   \n",
       "2  [O, O, B-DOCTOR, B-DATE, I-DATE, I-DATE, I-DAT...   \n",
       "3            [O, O, O, O, B-DATE, I-DATE, I-DATE, O]   \n",
       "4                           [O, O, O, O, O, O, O, O]   \n",
       "\n",
       "                                          labels_ids  \\\n",
       "0  [1, 1, 1, 33, 47, 47, 47, 47, 1, 1, 30, 1, 1, ...   \n",
       "1  [1, 1, 1, 1, 1, 1, 1, 1, 1, 1, 1, 1, 1, 1, 1, ...   \n",
       "2  [1, 1, 12, 33, 47, 47, 47, 47, 1, 1, 1, 1, 1, ...   \n",
       "3                        [1, 1, 1, 1, 33, 47, 47, 1]   \n",
       "4                           [1, 1, 1, 1, 1, 1, 1, 1]   \n",
       "\n",
       "                                          characters  \\\n",
       "0  [(3, 9), (10, 14), (14, 15), (16, 20), (20, 21...   \n",
       "1  [(149, 153), (154, 160), (161, 163), (164, 167...   \n",
       "2  [(283, 286), (287, 289), (290, 296), (297, 298...   \n",
       "3  [(356, 358), (359, 360), (360, 361), (361, 362...   \n",
       "4  [(370, 372), (373, 375), (375, 376), (376, 377...   \n",
       "\n",
       "                                     padded_sentence  \\\n",
       "0  [13111, 22704, 19385, 23427, 2069, 13297, 2069...   \n",
       "1  [3525, 18585, 7421, 10625, 20307, 22106, 4650,...   \n",
       "2  [447, 11298, 862, 19246, 15876, 16528, 15876, ...   \n",
       "3  [19085, 5148, 15876, 19381, 14960, 15876, 1157...   \n",
       "4  [7499, 12272, 24817, 16949, 5713, 21909, 12781...   \n",
       "\n",
       "                                       padded_labels  \n",
       "0  [1, 1, 1, 33, 47, 47, 47, 47, 1, 1, 30, 1, 1, ...  \n",
       "1  [1, 1, 1, 1, 1, 1, 1, 1, 1, 1, 1, 1, 1, 1, 1, ...  \n",
       "2  [1, 1, 12, 33, 47, 47, 47, 47, 1, 1, 1, 1, 1, ...  \n",
       "3  [1, 1, 1, 1, 33, 47, 47, 1, 0, 0, 0, 0, 0, 0, ...  \n",
       "4  [1, 1, 1, 1, 1, 1, 1, 1, 0, 0, 0, 0, 0, 0, 0, ...  "
      ]
     },
     "execution_count": 9,
     "metadata": {},
     "output_type": "execute_result"
    }
   ],
   "source": [
    "# data exploration\n",
    "df_train.head()"
   ]
  },
  {
   "cell_type": "code",
   "execution_count": 10,
   "metadata": {},
   "outputs": [
    {
     "name": "stderr",
     "output_type": "stream",
     "text": [
      "  0% |                                                                        |\r"
     ]
    },
    {
     "name": "stdout",
     "output_type": "stream",
     "text": [
      "Preprocessing data...\n"
     ]
    },
    {
     "name": "stderr",
     "output_type": "stream",
     "text": [
      "100% |########################################################################|\n"
     ]
    },
    {
     "name": "stdout",
     "output_type": "stream",
     "text": [
      "# of Tag Processing Errors:  69\n",
      "Files with errors:  ['226-02.xml', '226-04.xml', '254-05.xml', '255-03.xml', '256-01.xml', '256-03.xml', '257-04.xml', '259-04.xml', '270-04.xml', '272-01.xml', '272-03.xml', '272-04.xml', '274-02.xml', '274-03.xml', '278-03.xml', '283-04.xml', '287-02.xml', '287-03.xml', '291-01.xml', '320-01.xml', '329-04.xml', '332-05.xml', '335-03.xml', '336-03.xml', '336-04.xml', '338-03.xml', '338-05.xml', '356-04.xml', '357-03.xml', '357-05.xml', '361-01.xml', '361-03.xml', '361-04.xml', '361-05.xml', '367-02.xml', '392-03.xml', '392-04.xml', '395-05.xml', '400-05.xml', '100-05.xml', '123-04.xml', '124-04.xml', '129-05.xml', '152-02.xml', '155-05.xml', '179-01.xml', '188-05.xml', '189-03.xml', '130-04.xml', '198-01.xml', '200-04.xml', '210-03.xml', '212-03.xml', '214-01.xml', '217-02.xml', '232-03.xml', '260-01.xml', '262-01.xml', '312-02.xml', '313-02.xml', '316-01.xml', '319-01.xml', '319-03.xml', '319-04.xml', '319-05.xml', '342-04.xml', '373-04.xml', '381-04.xml', '384-04.xml']\n",
      "Shape of X:  (22541, 1536)\n",
      "Shape of y:  (22541, 1536)\n"
     ]
    }
   ],
   "source": [
    "# load test set\n",
    "X_test,y_test,df_test = pp.create_test_set(test_data.raw_folders,isLoading, test_data.title)"
   ]
  }
 ],
 "metadata": {
  "kernelspec": {
   "display_name": "Python 3",
   "language": "python",
   "name": "python3"
  },
  "language_info": {
   "codemirror_mode": {
    "name": "ipython",
    "version": 3
   },
   "file_extension": ".py",
   "mimetype": "text/x-python",
   "name": "python",
   "nbconvert_exporter": "python",
   "pygments_lexer": "ipython3",
   "version": "3.7.6"
  }
 },
 "nbformat": 4,
 "nbformat_minor": 2
}
