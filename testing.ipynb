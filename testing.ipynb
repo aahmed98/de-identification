{
 "cells": [
  {
   "cell_type": "markdown",
   "metadata": {},
   "source": [
    "## Step 1: Pre-Preprocessing"
   ]
  },
  {
   "cell_type": "code",
   "execution_count": 1,
   "metadata": {},
   "outputs": [
    {
     "name": "stderr",
     "output_type": "stream",
     "text": [
      "Using TensorFlow backend.\n"
     ]
    }
   ],
   "source": [
    "# import preprocessing code\n",
    "from src.preprocess import PreProcessor, df_to_train_set"
   ]
  },
  {
   "cell_type": "code",
   "execution_count": 2,
   "metadata": {},
   "outputs": [],
   "source": [
    "# save paths to the available datasets\n",
    "from typing import NamedTuple, List\n",
    "\n",
    "class Dataset(NamedTuple):\n",
    "    \"\"\"\n",
    "    Interface for accessing data folders.\n",
    "    \"\"\"\n",
    "    title: str\n",
    "    preprocessed_folder: str\n",
    "    raw_folders: List[str]\n",
    "\n",
    "SAMPLE_DATA = Dataset(\n",
    "    title = \"sample_data\",\n",
    "    preprocessed_folder = \"data/preprocessed/sample_data/\",\n",
    "    raw_folders = [\"docs/Track1-de-indentification/PHI/\"]\n",
    ")\n",
    "\n",
    "GOLD_1 = Dataset(\n",
    "    title = \"gold_1\",\n",
    "    preprocessed_folder = \"data/preprocessed/gold_1/\",\n",
    "    raw_folders = [\"data/raw/training-PHI-Gold-Set1/\"]\n",
    ")\n",
    "\n",
    "GOLD_FULL = Dataset(\n",
    "    title = \"gold_full\",\n",
    "    preprocessed_folder = \"\",\n",
    "    raw_folders = [\"../data/raw/training-PHI-Gold-Set1/\",\"../data/raw/training-PHI-Gold-Set2/\"]\n",
    ")\n",
    "\n",
    "DATASETS = [SAMPLE_DATA,GOLD_1,GOLD_FULL]"
   ]
  },
  {
   "cell_type": "markdown",
   "metadata": {},
   "source": [
    "## Step 2: Preprocessing"
   ]
  },
  {
   "cell_type": "code",
   "execution_count": 9,
   "metadata": {},
   "outputs": [],
   "source": [
    "# pick dataset and define loading boolean\n",
    "data = DATASETS[1]\n",
    "isLoading = True"
   ]
  },
  {
   "cell_type": "code",
   "execution_count": 10,
   "metadata": {},
   "outputs": [
    {
     "name": "stdout",
     "output_type": "stream",
     "text": [
      "Loading preprocessed data...\n",
      "Shape of X:  (22351, 1565)\n",
      "Shape of y:  (22351, 1565)\n",
      "Preprocessing complete.\n",
      "max length:  1565\n"
     ]
    }
   ],
   "source": [
    "# attach data to PreProcessor object.\n",
    "pp = PreProcessor(data.title)\n",
    "if isLoading:\n",
    "    X,y,df = pp.get_data(data.preprocessed_folder,isLoading = isLoading)\n",
    "else:\n",
    "    X,y,df = pp.get_data(data.raw_folders,isLoading = isLoading)\n",
    "print(\"max length: \",pp.max_len)"
   ]
  },
  {
   "cell_type": "code",
   "execution_count": 12,
   "metadata": {},
   "outputs": [
    {
     "data": {
      "text/html": [
       "<div>\n",
       "<style scoped>\n",
       "    .dataframe tbody tr th:only-of-type {\n",
       "        vertical-align: middle;\n",
       "    }\n",
       "\n",
       "    .dataframe tbody tr th {\n",
       "        vertical-align: top;\n",
       "    }\n",
       "\n",
       "    .dataframe thead th {\n",
       "        text-align: right;\n",
       "    }\n",
       "</style>\n",
       "<table border=\"1\" class=\"dataframe\">\n",
       "  <thead>\n",
       "    <tr style=\"text-align: right;\">\n",
       "      <th></th>\n",
       "      <th>Unnamed: 0</th>\n",
       "      <th>docid</th>\n",
       "      <th>sentence</th>\n",
       "      <th>sentence_ids</th>\n",
       "      <th>labels</th>\n",
       "      <th>labels_ids</th>\n",
       "      <th>characters</th>\n",
       "      <th>padded_sentence</th>\n",
       "      <th>padded_labels</th>\n",
       "    </tr>\n",
       "  </thead>\n",
       "  <tbody>\n",
       "    <tr>\n",
       "      <th>0</th>\n",
       "      <td>0</td>\n",
       "      <td>220-01</td>\n",
       "      <td>['Record', 'date', ':', '2067', '-', '05', '-'...</td>\n",
       "      <td>[19194, 4609, 1268, 17723, 4063, 20430, 4063, ...</td>\n",
       "      <td>['O', 'O', 'O', 'B-DATE', 'I-DATE', 'I-DATE', ...</td>\n",
       "      <td>[1, 1, 1, 34, 12, 12, 12, 12, 1, 1, 9, 1, 1, 1...</td>\n",
       "      <td>[(3, 9), (10, 14), (14, 15), (16, 20), (20, 21...</td>\n",
       "      <td>[19194, 4609, 1268, 17723, 4063, 20430, 4063, ...</td>\n",
       "      <td>[1, 1, 1, 34, 12, 12, 12, 12, 1, 1, 9, 1, 1, 1...</td>\n",
       "    </tr>\n",
       "    <tr>\n",
       "      <th>1</th>\n",
       "      <td>1</td>\n",
       "      <td>220-01</td>\n",
       "      <td>['They', 'called', 'us', 'and', 'we', 'increas...</td>\n",
       "      <td>[18497, 19396, 5707, 11665, 13338, 19563, 323,...</td>\n",
       "      <td>['O', 'O', 'O', 'O', 'O', 'O', 'O', 'O', 'O', ...</td>\n",
       "      <td>[1, 1, 1, 1, 1, 1, 1, 1, 1, 1, 1, 1, 1, 1, 1, ...</td>\n",
       "      <td>[(149, 153), (154, 160), (161, 163), (164, 167...</td>\n",
       "      <td>[18497, 19396, 5707, 11665, 13338, 19563, 323,...</td>\n",
       "      <td>[1, 1, 1, 1, 1, 1, 1, 1, 1, 1, 1, 1, 1, 1, 1, ...</td>\n",
       "    </tr>\n",
       "    <tr>\n",
       "      <th>2</th>\n",
       "      <td>2</td>\n",
       "      <td>220-01</td>\n",
       "      <td>['Saw', 'Dr', 'Oakley', '4', '/', '5', '/', '6...</td>\n",
       "      <td>[10697, 1463, 16754, 6584, 20654, 8419, 20654,...</td>\n",
       "      <td>['O', 'O', 'B-DOCTOR', 'B-DATE', 'I-DATE', 'I-...</td>\n",
       "      <td>[1, 1, 3, 34, 12, 12, 12, 12, 1, 1, 1, 1, 1, 1...</td>\n",
       "      <td>[(283, 286), (287, 289), (290, 296), (297, 298...</td>\n",
       "      <td>[10697, 1463, 16754, 6584, 20654, 8419, 20654,...</td>\n",
       "      <td>[1, 1, 3, 34, 12, 12, 12, 12, 1, 1, 1, 1, 1, 1...</td>\n",
       "    </tr>\n",
       "    <tr>\n",
       "      <th>3</th>\n",
       "      <td>3</td>\n",
       "      <td>220-01</td>\n",
       "      <td>['To', 'f', '/', 'u', '7', '/', '67', '.']</td>\n",
       "      <td>[13816, 1335, 20654, 3592, 4021, 20654, 12589,...</td>\n",
       "      <td>['O', 'O', 'O', 'O', 'B-DATE', 'I-DATE', 'I-DA...</td>\n",
       "      <td>[1, 1, 1, 1, 34, 12, 12, 1]</td>\n",
       "      <td>[(356, 358), (359, 360), (360, 361), (361, 362...</td>\n",
       "      <td>[13816, 1335, 20654, 3592, 4021, 20654, 12589,...</td>\n",
       "      <td>[1, 1, 1, 1, 34, 12, 12, 1, 0, 0, 0, 0, 0, 0, ...</td>\n",
       "    </tr>\n",
       "    <tr>\n",
       "      <th>4</th>\n",
       "      <td>4</td>\n",
       "      <td>220-01</td>\n",
       "      <td>['No', 'CP', \"'\", 's', 'since', 'last', 'admit...</td>\n",
       "      <td>[9379, 3649, 13951, 14662, 11841, 17013, 4180,...</td>\n",
       "      <td>['O', 'O', 'O', 'O', 'O', 'O', 'O', 'O']</td>\n",
       "      <td>[1, 1, 1, 1, 1, 1, 1, 1]</td>\n",
       "      <td>[(370, 372), (373, 375), (375, 376), (376, 377...</td>\n",
       "      <td>[9379, 3649, 13951, 14662, 11841, 17013, 4180,...</td>\n",
       "      <td>[1, 1, 1, 1, 1, 1, 1, 1, 0, 0, 0, 0, 0, 0, 0, ...</td>\n",
       "    </tr>\n",
       "  </tbody>\n",
       "</table>\n",
       "</div>"
      ],
      "text/plain": [
       "   Unnamed: 0   docid                                           sentence  \\\n",
       "0           0  220-01  ['Record', 'date', ':', '2067', '-', '05', '-'...   \n",
       "1           1  220-01  ['They', 'called', 'us', 'and', 'we', 'increas...   \n",
       "2           2  220-01  ['Saw', 'Dr', 'Oakley', '4', '/', '5', '/', '6...   \n",
       "3           3  220-01         ['To', 'f', '/', 'u', '7', '/', '67', '.']   \n",
       "4           4  220-01  ['No', 'CP', \"'\", 's', 'since', 'last', 'admit...   \n",
       "\n",
       "                                        sentence_ids  \\\n",
       "0  [19194, 4609, 1268, 17723, 4063, 20430, 4063, ...   \n",
       "1  [18497, 19396, 5707, 11665, 13338, 19563, 323,...   \n",
       "2  [10697, 1463, 16754, 6584, 20654, 8419, 20654,...   \n",
       "3  [13816, 1335, 20654, 3592, 4021, 20654, 12589,...   \n",
       "4  [9379, 3649, 13951, 14662, 11841, 17013, 4180,...   \n",
       "\n",
       "                                              labels  \\\n",
       "0  ['O', 'O', 'O', 'B-DATE', 'I-DATE', 'I-DATE', ...   \n",
       "1  ['O', 'O', 'O', 'O', 'O', 'O', 'O', 'O', 'O', ...   \n",
       "2  ['O', 'O', 'B-DOCTOR', 'B-DATE', 'I-DATE', 'I-...   \n",
       "3  ['O', 'O', 'O', 'O', 'B-DATE', 'I-DATE', 'I-DA...   \n",
       "4           ['O', 'O', 'O', 'O', 'O', 'O', 'O', 'O']   \n",
       "\n",
       "                                          labels_ids  \\\n",
       "0  [1, 1, 1, 34, 12, 12, 12, 12, 1, 1, 9, 1, 1, 1...   \n",
       "1  [1, 1, 1, 1, 1, 1, 1, 1, 1, 1, 1, 1, 1, 1, 1, ...   \n",
       "2  [1, 1, 3, 34, 12, 12, 12, 12, 1, 1, 1, 1, 1, 1...   \n",
       "3                        [1, 1, 1, 1, 34, 12, 12, 1]   \n",
       "4                           [1, 1, 1, 1, 1, 1, 1, 1]   \n",
       "\n",
       "                                          characters  \\\n",
       "0  [(3, 9), (10, 14), (14, 15), (16, 20), (20, 21...   \n",
       "1  [(149, 153), (154, 160), (161, 163), (164, 167...   \n",
       "2  [(283, 286), (287, 289), (290, 296), (297, 298...   \n",
       "3  [(356, 358), (359, 360), (360, 361), (361, 362...   \n",
       "4  [(370, 372), (373, 375), (375, 376), (376, 377...   \n",
       "\n",
       "                                     padded_sentence  \\\n",
       "0  [19194, 4609, 1268, 17723, 4063, 20430, 4063, ...   \n",
       "1  [18497, 19396, 5707, 11665, 13338, 19563, 323,...   \n",
       "2  [10697, 1463, 16754, 6584, 20654, 8419, 20654,...   \n",
       "3  [13816, 1335, 20654, 3592, 4021, 20654, 12589,...   \n",
       "4  [9379, 3649, 13951, 14662, 11841, 17013, 4180,...   \n",
       "\n",
       "                                       padded_labels  \n",
       "0  [1, 1, 1, 34, 12, 12, 12, 12, 1, 1, 9, 1, 1, 1...  \n",
       "1  [1, 1, 1, 1, 1, 1, 1, 1, 1, 1, 1, 1, 1, 1, 1, ...  \n",
       "2  [1, 1, 3, 34, 12, 12, 12, 12, 1, 1, 1, 1, 1, 1...  \n",
       "3  [1, 1, 1, 1, 34, 12, 12, 1, 0, 0, 0, 0, 0, 0, ...  \n",
       "4  [1, 1, 1, 1, 1, 1, 1, 1, 0, 0, 0, 0, 0, 0, 0, ...  "
      ]
     },
     "execution_count": 12,
     "metadata": {},
     "output_type": "execute_result"
    }
   ],
   "source": [
    "# data exploration\n",
    "df.head()"
   ]
  }
 ],
 "metadata": {
  "kernelspec": {
   "display_name": "Python 3",
   "language": "python",
   "name": "python3"
  },
  "language_info": {
   "codemirror_mode": {
    "name": "ipython",
    "version": 3
   },
   "file_extension": ".py",
   "mimetype": "text/x-python",
   "name": "python",
   "nbconvert_exporter": "python",
   "pygments_lexer": "ipython3",
   "version": "3.7.6"
  }
 },
 "nbformat": 4,
 "nbformat_minor": 2
}
