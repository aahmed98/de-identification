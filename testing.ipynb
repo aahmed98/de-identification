{
 "cells": [
  {
   "cell_type": "markdown",
   "metadata": {},
   "source": [
    "## Step 1: Pre-Preprocessing"
   ]
  },
  {
   "cell_type": "code",
   "execution_count": 8,
   "metadata": {},
   "outputs": [],
   "source": [
    "# import preprocessing code\n",
    "from src.preprocess import PreProcessor, df_to_train_set"
   ]
  },
  {
   "cell_type": "code",
   "execution_count": 2,
   "metadata": {},
   "outputs": [],
   "source": [
    "# save paths to the available datasets\n",
    "from typing import NamedTuple, List\n",
    "\n",
    "class Dataset(NamedTuple):\n",
    "    \"\"\"\n",
    "    Interface for accessing data folders.\n",
    "    \"\"\"\n",
    "    title: str\n",
    "    preprocessed_folder: str\n",
    "    raw_folders: List[str]\n",
    "\n",
    "SAMPLE_DATA = Dataset(\n",
    "    title = \"sample_data\",\n",
    "    preprocessed_folder = \"../data/preprocessed/sample_data/\",\n",
    "    raw_folders = [\"docs/Track1-de-indentification/PHI/\"]\n",
    ")\n",
    "\n",
    "GOLD_1 = Dataset(\n",
    "    title = \"gold_1\",\n",
    "    preprocessed_folder = \"../data/preprocessed/gold_1/\",\n",
    "    raw_folders = [\"../data/raw/training-PHI-Gold-Set1/\"]\n",
    ")\n",
    "\n",
    "GOLD_FULL = Dataset(\n",
    "    title = \"gold_full\",\n",
    "    preprocessed_folder = \"../data/preprocessed/gold_full/\",\n",
    "    raw_folders = [\"../data/raw/training-PHI-Gold-Set1/\",\"../data/raw/training-PHI-Gold-Set2/\"]\n",
    ")\n",
    "\n",
    "DATASETS = [SAMPLE_DATA,GOLD_1,GOLD_FULL]"
   ]
  },
  {
   "cell_type": "markdown",
   "metadata": {},
   "source": [
    "## Step 2: Preprocessing"
   ]
  },
  {
   "cell_type": "code",
   "execution_count": 3,
   "metadata": {},
   "outputs": [],
   "source": [
    "# pick dataset and define loading boolean\n",
    "data = DATASETS[2]\n",
    "isLoading = True"
   ]
  },
  {
   "cell_type": "code",
   "execution_count": 9,
   "metadata": {},
   "outputs": [
    {
     "name": "stdout",
     "output_type": "stream",
     "text": [
      "Loading preprocessed data...\n"
     ]
    },
    {
     "name": "stderr",
     "output_type": "stream",
     "text": [
      "  7% |#####                                                                   |\r"
     ]
    },
    {
     "ename": "KeyboardInterrupt",
     "evalue": "",
     "output_type": "error",
     "traceback": [
      "\u001b[1;31m---------------------------------------------------------------------------\u001b[0m",
      "\u001b[1;31mKeyboardInterrupt\u001b[0m                         Traceback (most recent call last)",
      "\u001b[1;32m<ipython-input-9-99bb89a3a092>\u001b[0m in \u001b[0;36m<module>\u001b[1;34m\u001b[0m\n\u001b[0;32m      2\u001b[0m \u001b[0mpp\u001b[0m \u001b[1;33m=\u001b[0m \u001b[0mPreProcessor\u001b[0m\u001b[1;33m(\u001b[0m\u001b[0mdata\u001b[0m\u001b[1;33m.\u001b[0m\u001b[0mtitle\u001b[0m\u001b[1;33m)\u001b[0m\u001b[1;33m\u001b[0m\u001b[1;33m\u001b[0m\u001b[0m\n\u001b[0;32m      3\u001b[0m \u001b[1;32mif\u001b[0m \u001b[0misLoading\u001b[0m\u001b[1;33m:\u001b[0m\u001b[1;33m\u001b[0m\u001b[1;33m\u001b[0m\u001b[0m\n\u001b[1;32m----> 4\u001b[1;33m     \u001b[0mX\u001b[0m\u001b[1;33m,\u001b[0m\u001b[0my\u001b[0m\u001b[1;33m,\u001b[0m\u001b[0mdf\u001b[0m \u001b[1;33m=\u001b[0m \u001b[0mpp\u001b[0m\u001b[1;33m.\u001b[0m\u001b[0mget_data\u001b[0m\u001b[1;33m(\u001b[0m\u001b[0mdata\u001b[0m\u001b[1;33m.\u001b[0m\u001b[0mpreprocessed_folder\u001b[0m\u001b[1;33m,\u001b[0m\u001b[0misLoading\u001b[0m \u001b[1;33m=\u001b[0m \u001b[0misLoading\u001b[0m\u001b[1;33m)\u001b[0m\u001b[1;33m\u001b[0m\u001b[1;33m\u001b[0m\u001b[0m\n\u001b[0m\u001b[0;32m      5\u001b[0m \u001b[1;32melse\u001b[0m\u001b[1;33m:\u001b[0m\u001b[1;33m\u001b[0m\u001b[1;33m\u001b[0m\u001b[0m\n\u001b[0;32m      6\u001b[0m     \u001b[0mX\u001b[0m\u001b[1;33m,\u001b[0m\u001b[0my\u001b[0m\u001b[1;33m,\u001b[0m\u001b[0mdf\u001b[0m \u001b[1;33m=\u001b[0m \u001b[0mpp\u001b[0m\u001b[1;33m.\u001b[0m\u001b[0mget_data\u001b[0m\u001b[1;33m(\u001b[0m\u001b[0mdata\u001b[0m\u001b[1;33m.\u001b[0m\u001b[0mraw_folders\u001b[0m\u001b[1;33m,\u001b[0m\u001b[0misLoading\u001b[0m \u001b[1;33m=\u001b[0m \u001b[0misLoading\u001b[0m\u001b[1;33m)\u001b[0m\u001b[1;33m\u001b[0m\u001b[1;33m\u001b[0m\u001b[0m\n",
      "\u001b[1;32m~\\Desktop\\de-identification\\src\\preprocess.py\u001b[0m in \u001b[0;36mget_data\u001b[1;34m(self, train_folders, isLoading)\u001b[0m\n\u001b[0;32m    423\u001b[0m             \u001b[0mX\u001b[0m\u001b[1;33m,\u001b[0m \u001b[0my\u001b[0m \u001b[1;33m=\u001b[0m \u001b[0mself\u001b[0m\u001b[1;33m.\u001b[0m\u001b[0mcreate_train_set\u001b[0m\u001b[1;33m(\u001b[0m\u001b[0mdf\u001b[0m\u001b[1;33m,\u001b[0m\u001b[0misLoading\u001b[0m\u001b[1;33m)\u001b[0m \u001b[1;31m# modifies df, which is why it comes before sav\u001b[0m\u001b[1;33m\u001b[0m\u001b[1;33m\u001b[0m\u001b[0m\n\u001b[0;32m    424\u001b[0m             \u001b[0mself\u001b[0m\u001b[1;33m.\u001b[0m\u001b[0msave_processed_data\u001b[0m\u001b[1;33m(\u001b[0m\u001b[0mdf\u001b[0m\u001b[1;33m)\u001b[0m\u001b[1;33m\u001b[0m\u001b[1;33m\u001b[0m\u001b[0m\n\u001b[1;32m--> 425\u001b[1;33m         \u001b[1;32melse\u001b[0m\u001b[1;33m:\u001b[0m\u001b[1;33m\u001b[0m\u001b[1;33m\u001b[0m\u001b[0m\n\u001b[0m\u001b[0;32m    426\u001b[0m             \u001b[0mdf\u001b[0m \u001b[1;33m=\u001b[0m \u001b[0mself\u001b[0m\u001b[1;33m.\u001b[0m\u001b[0mload_processed_data\u001b[0m\u001b[1;33m(\u001b[0m\u001b[0mtrain_folders\u001b[0m\u001b[1;33m)\u001b[0m\u001b[1;33m\u001b[0m\u001b[1;33m\u001b[0m\u001b[0m\n\u001b[0;32m    427\u001b[0m             \u001b[0mX\u001b[0m\u001b[1;33m,\u001b[0m\u001b[0my\u001b[0m \u001b[1;33m=\u001b[0m \u001b[0mself\u001b[0m\u001b[1;33m.\u001b[0m\u001b[0mcreate_train_set\u001b[0m\u001b[1;33m(\u001b[0m\u001b[0mdf\u001b[0m\u001b[1;33m,\u001b[0m\u001b[0misLoading\u001b[0m\u001b[1;33m)\u001b[0m \u001b[1;31m# no modification to df in loading case\u001b[0m\u001b[1;33m\u001b[0m\u001b[1;33m\u001b[0m\u001b[0m\n",
      "\u001b[1;32m~\\Desktop\\de-identification\\src\\preprocess.py\u001b[0m in \u001b[0;36mcreate_train_set\u001b[1;34m(self, df, loading)\u001b[0m\n\u001b[0;32m    354\u001b[0m     \u001b[1;32mdef\u001b[0m \u001b[0mcreate_train_set\u001b[0m\u001b[1;33m(\u001b[0m\u001b[0mself\u001b[0m\u001b[1;33m,\u001b[0m\u001b[0mdf\u001b[0m\u001b[1;33m,\u001b[0m\u001b[0mloading\u001b[0m\u001b[1;33m=\u001b[0m\u001b[1;32mFalse\u001b[0m\u001b[1;33m)\u001b[0m\u001b[1;33m:\u001b[0m\u001b[1;33m\u001b[0m\u001b[1;33m\u001b[0m\u001b[0m\n\u001b[0;32m    355\u001b[0m         \"\"\"\n\u001b[1;32m--> 356\u001b[1;33m         \u001b[0mCreates\u001b[0m \u001b[0mtraining\u001b[0m \u001b[0mset\u001b[0m \u001b[0musing\u001b[0m \u001b[0mdf\u001b[0m \u001b[0mby\u001b[0m \u001b[0mpadding\u001b[0m \u001b[0msequences\u001b[0m \u001b[1;32mand\u001b[0m \u001b[0mreturning\u001b[0m \u001b[0mX\u001b[0m\u001b[1;33m,\u001b[0m\u001b[0my\u001b[0m\u001b[1;33m.\u001b[0m \u001b[0mIf\u001b[0m \u001b[0mloading\u001b[0m\u001b[1;33m,\u001b[0m \u001b[0msentences\u001b[0m \u001b[0mare\u001b[0m \u001b[0malready\u001b[0m \u001b[0mpadded\u001b[0m\u001b[1;33m.\u001b[0m\u001b[1;33m\u001b[0m\u001b[1;33m\u001b[0m\u001b[0m\n\u001b[0m\u001b[0;32m    357\u001b[0m         \"\"\"\n\u001b[0;32m    358\u001b[0m         \u001b[0mX\u001b[0m\u001b[1;33m,\u001b[0m\u001b[0my\u001b[0m \u001b[1;33m=\u001b[0m \u001b[0mdf_to_train_set\u001b[0m\u001b[1;33m(\u001b[0m\u001b[0mdf\u001b[0m\u001b[1;33m,\u001b[0m\u001b[0mloading\u001b[0m\u001b[1;33m)\u001b[0m\u001b[1;33m\u001b[0m\u001b[1;33m\u001b[0m\u001b[0m\n",
      "\u001b[1;32m~\\Desktop\\de-identification\\src\\preprocess.py\u001b[0m in \u001b[0;36mdf_to_train_set\u001b[1;34m(df, loading)\u001b[0m\n\u001b[0;32m     70\u001b[0m \u001b[1;33m\u001b[0m\u001b[0m\n\u001b[0;32m     71\u001b[0m     \u001b[1;32melse\u001b[0m\u001b[1;33m:\u001b[0m \u001b[1;31m# loading\u001b[0m\u001b[1;33m\u001b[0m\u001b[1;33m\u001b[0m\u001b[0m\n\u001b[1;32m---> 72\u001b[1;33m         \u001b[0mX\u001b[0m \u001b[1;33m=\u001b[0m \u001b[0mdf\u001b[0m\u001b[1;33m[\u001b[0m\u001b[1;34m\"padded_sentence\"\u001b[0m\u001b[1;33m]\u001b[0m\u001b[1;33m.\u001b[0m\u001b[0mcopy\u001b[0m\u001b[1;33m(\u001b[0m\u001b[1;33m)\u001b[0m\u001b[1;33m\u001b[0m\u001b[1;33m\u001b[0m\u001b[0m\n\u001b[0m\u001b[0;32m     73\u001b[0m         \u001b[1;32mif\u001b[0m \u001b[0mtype\u001b[0m\u001b[1;33m(\u001b[0m\u001b[0mX\u001b[0m\u001b[1;33m.\u001b[0m\u001b[0miloc\u001b[0m\u001b[1;33m[\u001b[0m\u001b[1;36m0\u001b[0m\u001b[1;33m]\u001b[0m\u001b[1;33m)\u001b[0m \u001b[1;32mis\u001b[0m \u001b[0mstr\u001b[0m\u001b[1;33m:\u001b[0m \u001b[1;31m# lists converted to strings when you save. must \"unpack\" string\u001b[0m\u001b[1;33m\u001b[0m\u001b[1;33m\u001b[0m\u001b[0m\n\u001b[0;32m     74\u001b[0m             \u001b[0mX\u001b[0m \u001b[1;33m=\u001b[0m \u001b[0mnp\u001b[0m\u001b[1;33m.\u001b[0m\u001b[0marray\u001b[0m\u001b[1;33m(\u001b[0m\u001b[0munstring_df_series\u001b[0m\u001b[1;33m(\u001b[0m\u001b[0mX\u001b[0m\u001b[1;33m)\u001b[0m\u001b[1;33m)\u001b[0m\u001b[1;33m\u001b[0m\u001b[1;33m\u001b[0m\u001b[0m\n",
      "\u001b[1;32m~\\Desktop\\de-identification\\src\\preprocess.py\u001b[0m in \u001b[0;36munstring_df_series\u001b[1;34m(df_column)\u001b[0m\n\u001b[0;32m     46\u001b[0m     \u001b[0mprint\u001b[0m\u001b[1;33m(\u001b[0m\u001b[0mpd\u001b[0m\u001b[1;33m.\u001b[0m\u001b[0meval\u001b[0m\u001b[1;33m(\u001b[0m\u001b[0mdf_column\u001b[0m\u001b[1;33m)\u001b[0m\u001b[1;33m)\u001b[0m\u001b[1;33m\u001b[0m\u001b[1;33m\u001b[0m\u001b[0m\n\u001b[0;32m     47\u001b[0m     \u001b[0mtemp\u001b[0m \u001b[1;33m=\u001b[0m \u001b[1;33m[\u001b[0m\u001b[1;33m]\u001b[0m\u001b[1;33m\u001b[0m\u001b[1;33m\u001b[0m\u001b[0m\n\u001b[1;32m---> 48\u001b[1;33m     \u001b[0mpbar\u001b[0m \u001b[1;33m=\u001b[0m \u001b[0mProgressBar\u001b[0m\u001b[1;33m(\u001b[0m\u001b[1;33m)\u001b[0m\u001b[1;33m\u001b[0m\u001b[1;33m\u001b[0m\u001b[0m\n\u001b[0m\u001b[0;32m     49\u001b[0m     \u001b[1;32mfor\u001b[0m \u001b[0msentence\u001b[0m \u001b[1;32min\u001b[0m \u001b[0mpbar\u001b[0m\u001b[1;33m(\u001b[0m\u001b[0mdf_column\u001b[0m\u001b[1;33m)\u001b[0m\u001b[1;33m:\u001b[0m\u001b[1;33m\u001b[0m\u001b[1;33m\u001b[0m\u001b[0m\n\u001b[0;32m     50\u001b[0m         \u001b[0mtemp\u001b[0m\u001b[1;33m.\u001b[0m\u001b[0mappend\u001b[0m\u001b[1;33m(\u001b[0m\u001b[0mast\u001b[0m\u001b[1;33m.\u001b[0m\u001b[0mliteral_eval\u001b[0m\u001b[1;33m(\u001b[0m\u001b[0msentence\u001b[0m\u001b[1;33m)\u001b[0m\u001b[1;33m)\u001b[0m\u001b[1;33m\u001b[0m\u001b[1;33m\u001b[0m\u001b[0m\n",
      "\u001b[1;32m~\\Desktop\\de-identification\\src\\preprocess.py\u001b[0m in \u001b[0;36m<module>\u001b[1;34m\u001b[0m\n",
      "\u001b[1;31mKeyboardInterrupt\u001b[0m: "
     ]
    }
   ],
   "source": [
    "# attach data to PreProcessor object.\n",
    "pp = PreProcessor(data.title)\n",
    "if isLoading:\n",
    "    X,y,df = pp.get_data(data.preprocessed_folder,isLoading = isLoading)\n",
    "else:\n",
    "    X,y,df = pp.get_data(data.raw_folders,isLoading = isLoading)\n",
    "print(\"max length: \",pp.max_len)"
   ]
  },
  {
   "cell_type": "code",
   "execution_count": 5,
   "metadata": {},
   "outputs": [
    {
     "data": {
      "text/html": [
       "<div>\n",
       "<style scoped>\n",
       "    .dataframe tbody tr th:only-of-type {\n",
       "        vertical-align: middle;\n",
       "    }\n",
       "\n",
       "    .dataframe tbody tr th {\n",
       "        vertical-align: top;\n",
       "    }\n",
       "\n",
       "    .dataframe thead th {\n",
       "        text-align: right;\n",
       "    }\n",
       "</style>\n",
       "<table border=\"1\" class=\"dataframe\">\n",
       "  <thead>\n",
       "    <tr style=\"text-align: right;\">\n",
       "      <th></th>\n",
       "      <th>Unnamed: 0</th>\n",
       "      <th>docid</th>\n",
       "      <th>sentence</th>\n",
       "      <th>sentence_ids</th>\n",
       "      <th>labels</th>\n",
       "      <th>labels_ids</th>\n",
       "      <th>characters</th>\n",
       "      <th>padded_sentence</th>\n",
       "      <th>padded_labels</th>\n",
       "    </tr>\n",
       "  </thead>\n",
       "  <tbody>\n",
       "    <tr>\n",
       "      <th>0</th>\n",
       "      <td>0</td>\n",
       "      <td>220-01</td>\n",
       "      <td>['Record', 'date', ':', '2067', '-', '05', '-'...</td>\n",
       "      <td>[14437, 9285, 6069, 16831, 1405, 17112, 1405, ...</td>\n",
       "      <td>['O', 'O', 'O', 'B-DATE', 'I-DATE', 'I-DATE', ...</td>\n",
       "      <td>[1, 1, 1, 37, 13, 13, 13, 13, 1, 1, 43, 1, 1, ...</td>\n",
       "      <td>[(3, 9), (10, 14), (14, 15), (16, 20), (20, 21...</td>\n",
       "      <td>[14437, 9285, 6069, 16831, 1405, 17112, 1405, ...</td>\n",
       "      <td>[1, 1, 1, 37, 13, 13, 13, 13, 1, 1, 43, 1, 1, ...</td>\n",
       "    </tr>\n",
       "    <tr>\n",
       "      <th>1</th>\n",
       "      <td>1</td>\n",
       "      <td>220-01</td>\n",
       "      <td>['They', 'called', 'us', 'and', 'we', 'increas...</td>\n",
       "      <td>[12586, 9364, 7442, 10900, 16167, 7587, 4226, ...</td>\n",
       "      <td>['O', 'O', 'O', 'O', 'O', 'O', 'O', 'O', 'O', ...</td>\n",
       "      <td>[1, 1, 1, 1, 1, 1, 1, 1, 1, 1, 1, 1, 1, 1, 1, ...</td>\n",
       "      <td>[(149, 153), (154, 160), (161, 163), (164, 167...</td>\n",
       "      <td>[12586, 9364, 7442, 10900, 16167, 7587, 4226, ...</td>\n",
       "      <td>[1, 1, 1, 1, 1, 1, 1, 1, 1, 1, 1, 1, 1, 1, 1, ...</td>\n",
       "    </tr>\n",
       "    <tr>\n",
       "      <th>2</th>\n",
       "      <td>2</td>\n",
       "      <td>220-01</td>\n",
       "      <td>['Saw', 'Dr', 'Oakley', '4', '/', '5', '/', '6...</td>\n",
       "      <td>[23627, 14084, 17965, 3434, 5236, 18813, 5236,...</td>\n",
       "      <td>['O', 'O', 'B-DOCTOR', 'B-DATE', 'I-DATE', 'I-...</td>\n",
       "      <td>[1, 1, 35, 37, 13, 13, 13, 13, 1, 1, 1, 1, 1, ...</td>\n",
       "      <td>[(283, 286), (287, 289), (290, 296), (297, 298...</td>\n",
       "      <td>[23627, 14084, 17965, 3434, 5236, 18813, 5236,...</td>\n",
       "      <td>[1, 1, 35, 37, 13, 13, 13, 13, 1, 1, 1, 1, 1, ...</td>\n",
       "    </tr>\n",
       "    <tr>\n",
       "      <th>3</th>\n",
       "      <td>3</td>\n",
       "      <td>220-01</td>\n",
       "      <td>['To', 'f', '/', 'u', '7', '/', '67', '.']</td>\n",
       "      <td>[14421, 10179, 5236, 1655, 10105, 5236, 24350,...</td>\n",
       "      <td>['O', 'O', 'O', 'O', 'B-DATE', 'I-DATE', 'I-DA...</td>\n",
       "      <td>[1, 1, 1, 1, 37, 13, 13, 1]</td>\n",
       "      <td>[(356, 358), (359, 360), (360, 361), (361, 362...</td>\n",
       "      <td>[14421, 10179, 5236, 1655, 10105, 5236, 24350,...</td>\n",
       "      <td>[1, 1, 1, 1, 37, 13, 13, 1, 0, 0, 0, 0, 0, 0, ...</td>\n",
       "    </tr>\n",
       "    <tr>\n",
       "      <th>4</th>\n",
       "      <td>4</td>\n",
       "      <td>220-01</td>\n",
       "      <td>['No', 'CP', \"'\", 's', 'since', 'last', 'admit...</td>\n",
       "      <td>[15204, 21625, 21518, 13064, 12029, 14440, 111...</td>\n",
       "      <td>['O', 'O', 'O', 'O', 'O', 'O', 'O', 'O']</td>\n",
       "      <td>[1, 1, 1, 1, 1, 1, 1, 1]</td>\n",
       "      <td>[(370, 372), (373, 375), (375, 376), (376, 377...</td>\n",
       "      <td>[15204, 21625, 21518, 13064, 12029, 14440, 111...</td>\n",
       "      <td>[1, 1, 1, 1, 1, 1, 1, 1, 0, 0, 0, 0, 0, 0, 0, ...</td>\n",
       "    </tr>\n",
       "  </tbody>\n",
       "</table>\n",
       "</div>"
      ],
      "text/plain": [
       "   Unnamed: 0   docid                                           sentence  \\\n",
       "0           0  220-01  ['Record', 'date', ':', '2067', '-', '05', '-'...   \n",
       "1           1  220-01  ['They', 'called', 'us', 'and', 'we', 'increas...   \n",
       "2           2  220-01  ['Saw', 'Dr', 'Oakley', '4', '/', '5', '/', '6...   \n",
       "3           3  220-01         ['To', 'f', '/', 'u', '7', '/', '67', '.']   \n",
       "4           4  220-01  ['No', 'CP', \"'\", 's', 'since', 'last', 'admit...   \n",
       "\n",
       "                                        sentence_ids  \\\n",
       "0  [14437, 9285, 6069, 16831, 1405, 17112, 1405, ...   \n",
       "1  [12586, 9364, 7442, 10900, 16167, 7587, 4226, ...   \n",
       "2  [23627, 14084, 17965, 3434, 5236, 18813, 5236,...   \n",
       "3  [14421, 10179, 5236, 1655, 10105, 5236, 24350,...   \n",
       "4  [15204, 21625, 21518, 13064, 12029, 14440, 111...   \n",
       "\n",
       "                                              labels  \\\n",
       "0  ['O', 'O', 'O', 'B-DATE', 'I-DATE', 'I-DATE', ...   \n",
       "1  ['O', 'O', 'O', 'O', 'O', 'O', 'O', 'O', 'O', ...   \n",
       "2  ['O', 'O', 'B-DOCTOR', 'B-DATE', 'I-DATE', 'I-...   \n",
       "3  ['O', 'O', 'O', 'O', 'B-DATE', 'I-DATE', 'I-DA...   \n",
       "4           ['O', 'O', 'O', 'O', 'O', 'O', 'O', 'O']   \n",
       "\n",
       "                                          labels_ids  \\\n",
       "0  [1, 1, 1, 37, 13, 13, 13, 13, 1, 1, 43, 1, 1, ...   \n",
       "1  [1, 1, 1, 1, 1, 1, 1, 1, 1, 1, 1, 1, 1, 1, 1, ...   \n",
       "2  [1, 1, 35, 37, 13, 13, 13, 13, 1, 1, 1, 1, 1, ...   \n",
       "3                        [1, 1, 1, 1, 37, 13, 13, 1]   \n",
       "4                           [1, 1, 1, 1, 1, 1, 1, 1]   \n",
       "\n",
       "                                          characters  \\\n",
       "0  [(3, 9), (10, 14), (14, 15), (16, 20), (20, 21...   \n",
       "1  [(149, 153), (154, 160), (161, 163), (164, 167...   \n",
       "2  [(283, 286), (287, 289), (290, 296), (297, 298...   \n",
       "3  [(356, 358), (359, 360), (360, 361), (361, 362...   \n",
       "4  [(370, 372), (373, 375), (375, 376), (376, 377...   \n",
       "\n",
       "                                     padded_sentence  \\\n",
       "0  [14437, 9285, 6069, 16831, 1405, 17112, 1405, ...   \n",
       "1  [12586, 9364, 7442, 10900, 16167, 7587, 4226, ...   \n",
       "2  [23627, 14084, 17965, 3434, 5236, 18813, 5236,...   \n",
       "3  [14421, 10179, 5236, 1655, 10105, 5236, 24350,...   \n",
       "4  [15204, 21625, 21518, 13064, 12029, 14440, 111...   \n",
       "\n",
       "                                       padded_labels  \n",
       "0  [1, 1, 1, 37, 13, 13, 13, 13, 1, 1, 43, 1, 1, ...  \n",
       "1  [1, 1, 1, 1, 1, 1, 1, 1, 1, 1, 1, 1, 1, 1, 1, ...  \n",
       "2  [1, 1, 35, 37, 13, 13, 13, 13, 1, 1, 1, 1, 1, ...  \n",
       "3  [1, 1, 1, 1, 37, 13, 13, 1, 0, 0, 0, 0, 0, 0, ...  \n",
       "4  [1, 1, 1, 1, 1, 1, 1, 1, 0, 0, 0, 0, 0, 0, 0, ...  "
      ]
     },
     "execution_count": 5,
     "metadata": {},
     "output_type": "execute_result"
    }
   ],
   "source": [
    "# data exploration\n",
    "df.head()"
   ]
  }
 ],
 "metadata": {
  "kernelspec": {
   "display_name": "Python 3",
   "language": "python",
   "name": "python3"
  },
  "language_info": {
   "codemirror_mode": {
    "name": "ipython",
    "version": 3
   },
   "file_extension": ".py",
   "mimetype": "text/x-python",
   "name": "python",
   "nbconvert_exporter": "python",
   "pygments_lexer": "ipython3",
   "version": "3.7.6"
  }
 },
 "nbformat": 4,
 "nbformat_minor": 2
}
