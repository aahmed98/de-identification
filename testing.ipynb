{
 "cells": [
  {
   "cell_type": "markdown",
   "metadata": {},
   "source": [
    "## Step 1: Pre-Preprocessing"
   ],
   "execution_count": null,
   "outputs": []
  },
  {
   "cell_type": "code",
   "execution_count": null,
   "metadata": {},
   "outputs": [],
   "source": [
    "%load_ext autoreload\n",
    "%autoreload 2\n",
    "\n",
    "# import preprocessing code\n",
    "from src.preprocess import PreProcessor, df_to_train_set"
   ]
  },
  {
   "cell_type": "code",
   "execution_count": null,
   "metadata": {},
   "outputs": [],
   "source": [
    "# save paths to the available datasets\n",
    "from typing import NamedTuple, List\n",
    "\n",
    "class Dataset(NamedTuple):\n",
    "    \"\"\"\n",
    "    Interface for accessing data folders.\n",
    "    \"\"\"\n",
    "    title: str\n",
    "    preprocessed_folder: str\n",
    "    raw_folders: List[str]\n",
    "\n",
    "SAMPLE_DATA = Dataset(\n",
    "    title = \"sample_data\",\n",
    "    preprocessed_folder = \"../data/preprocessed/sample_data/\",\n",
    "    raw_folders = [\"docs/Track1-de-indentification/PHI/\"]\n",
    ")\n",
    "\n",
    "GOLD_1 = Dataset(\n",
    "    title = \"gold_1\",\n",
    "    preprocessed_folder = \"../data/preprocessed/gold_1/\",\n",
    "    raw_folders = [\"../data/raw/training-PHI-Gold-Set1/\"]\n",
    ")\n",
    "\n",
    "GOLD_FULL = Dataset(\n",
    "    title = \"gold_full\",\n",
    "    preprocessed_folder = \"../data/preprocessed/gold_full/\",\n",
    "    raw_folders = [\"../data/raw/training-PHI-Gold-Set1/\",\"../data/raw/training-PHI-Gold-Set2/\"]\n",
    ")\n",
    "\n",
    "GOLD_TEST = Dataset(\n",
    "    title = \"gold_test\",\n",
    "    preprocessed_folder = \"../data/preprocessed/gold_test/\",\n",
    "    raw_folders = [\"../data/raw/testing-PHI-Gold-fixed/\"]\n",
    ")\n",
    "\n",
    "DATASETS = [SAMPLE_DATA,GOLD_1,GOLD_FULL, GOLD_TEST]"
   ]
  },
  {
   "cell_type": "markdown",
   "metadata": {},
   "source": [
    "## Step 2: Preprocessing"
   ],
   "execution_count": null,
   "outputs": []
  },
  {
   "cell_type": "code",
   "execution_count": null,
   "metadata": {},
   "outputs": [],
   "source": [
    "# pick dataset and define loading boolean\n",
    "# train_data = DATASETS[2]\n",
    "train_data = DATASETS[0]\n",
    "test_data = DATASETS[3]\n",
    "isLoading = True"
   ]
  },
  {
   "cell_type": "code",
   "execution_count": null,
   "metadata": {},
   "outputs": [],
   "source": [
    "# attach data to PreProcessor object.\n",
    "pp = PreProcessor(train_data.title)\n",
    "if isLoading:\n",
    "    X_train,y_train,df_train = pp.get_data(train_data.preprocessed_folder,isLoading = isLoading)\n",
    "else:\n",
    "    X_train,y_train,df_train = pp.get_data(train_data.raw_folders,isLoading = isLoading)\n",
    "print(\"max length: \",pp.max_len)"
   ]
  },
  {
   "cell_type": "code",
   "execution_count": null,
   "metadata": {
    "scrolled": true
   },
   "outputs": [],
   "source": [
    "# data exploration\n",
    "df_train.head()"
   ]
  },
  {
   "cell_type": "code",
   "execution_count": null,
   "metadata": {},
   "outputs": [],
   "source": [
    "# load test set\n",
    "if isLoading:\n",
    "    X_test,y_test,df_test = pp.create_test_set(test_data.preprocessed_folder,isLoading,test_data.title)\n",
    "else:\n",
    "    X_test,y_test,df_test = pp.create_test_set(test_data.raw_folders,isLoading,test_data.title)\n",
    ""
   ]
  },
  {
   "cell_type": "code",
   "execution_count": null,
   "metadata": {},
   "outputs": [],
   "source": [
    "# test data exploration\n",
    "df_test.head()"
   ]
  },
  {
   "cell_type": "code",
   "execution_count": null,
   "metadata": {},
   "outputs": [],
   "source": [
    "# import model stuff\n",
    "from src.models.baseline import BaselineModel\n",
    "from src.models.bilstm import BiLSTM\n",
    "from src.models.bilstm_crf import BiLSTM_CRF\n",
    "from pipeline.visualization import sample_output\n",
    "from pipeline.train import train\n",
    "from random import randint\n",
    "from sklearn.utils import shuffle\n",
    "import tensorflow as tf\n",
    "import numpy as np\n",
    "import os\n",
    "import matplotlib.pyplot as plt\n",
    "from src.converter import get_label_positions, bio_to_i2d2\n",
    "import xml.etree.ElementTree as ET\n",
    "from typing import NamedTuple, List"
   ]
  },
  {
   "cell_type": "code",
   "execution_count": 36,
   "metadata": {},
   "outputs": [],
   "source": [
    "# build model\n",
    "model = BaselineModel(pp.vocab_size,pp.tag_size,pp.max_len)\n",
    "checkpoint_dir = 'models/checkpoints/' + train_data.title + '/' + model.title + '/' \n",
    "if not os.path.exists(checkpoint_dir):\n",
    "    os.makedirs(checkpoint_dir)\n",
    "checkpoint = tf.train.Checkpoint(model=model)\n",
    "manager = tf.train.CheckpointManager(checkpoint, checkpoint_dir, max_to_keep=3)"
   ]
  },
  {
   "cell_type": "code",
   "execution_count": 41,
   "metadata": {},
   "outputs": [
    {
     "output_type": "stream",
     "name": "stdout",
     "text": "Restored from models/checkpoints/sample_data/transformer/ckpt-20\n"
    }
   ],
   "source": [
    "# restore checkpoint\n",
    "checkpoint.restore(manager.latest_checkpoint)\n",
    "if manager.latest_checkpoint:\n",
    "    print(\"Restored from {}\".format(manager.latest_checkpoint))"
   ]
  },
  {
   "cell_type": "code",
   "execution_count": null,
   "metadata": {},
   "outputs": [],
   "source": [
    "# train\n",
    "train(model,X_train,y_train,batch_size = 32, epochs=10,sample_interval=10,manager=manager,pp=pp)"
   ]
  },
  {
   "cell_type": "code",
   "execution_count": 27,
   "metadata": {
    "scrolled": true
   },
   "outputs": [
    {
     "output_type": "stream",
     "name": "stdout",
     "text": "Sentence #:  16\nWord            Pred : (True)\n==============================\nNo             :O     (O)\nacute          :O     (O)\nST             :O     (O)\nchanges        :O     (O)\n,              :O     (O)\nQ              :O     (O)\nwaves          :O     (O)\nor             :O     (O)\nT              :O     (O)\nwave           :O     (O)\ninversion      :O     (O)\n.              :O     (O)\n"
    }
   ],
   "source": [
    "# test model\n",
    "sample_output(model,X_train,y_train, pp = pp,rand_idx=None)\n",
    "\n",
    "from pipeline.test import test_to_i2d2, test_vanilla\n",
    "# test_vanilla(model, X_test, y_test)\n",
    "\n",
    "# test_to_i2d2(model,df_test, pp, checkpoint, manager)"
   ]
  },
  {
   "cell_type": "code",
   "execution_count": null,
   "metadata": {},
   "outputs": [],
   "source": [
    "# build model\n",
    "model = BiLSTM(pp.vocab_size,pp.tag_size,pp.max_len)\n",
    "checkpoint_dir = 'models/checkpoints/' + train_data.title + '/' + model.title + '/' \n",
    "if not os.path.exists(checkpoint_dir):\n",
    "    os.makedirs(checkpoint_dir)\n",
    "checkpoint = tf.train.Checkpoint(model=model)\n",
    "manager = tf.train.CheckpointManager(checkpoint, checkpoint_dir, max_to_keep=3)"
   ]
  },
  {
   "cell_type": "code",
   "execution_count": null,
   "metadata": {},
   "outputs": [],
   "source": [
    "# train model\n",
    "train(model,X_train,y_train,batch_size = 32, epochs=10,sample_interval=10,manager=manager,pp=pp)"
   ]
  },
  {
   "cell_type": "code",
   "execution_count": 28,
   "metadata": {},
   "outputs": [
    {
     "output_type": "stream",
     "name": "stdout",
     "text": "Num GPUs Available:  1\n"
    }
   ],
   "source": [
    "# build model\n",
    "model = BiLSTM_CRF(pp.vocab_size,pp.tag_size,pp.max_len)\n",
    "checkpoint_dir = 'models/checkpoints/' + train_data.title + '/' + model.title + '/' \n",
    "if not os.path.exists(checkpoint_dir):\n",
    "    os.makedirs(checkpoint_dir)\n",
    "checkpoint = tf.train.Checkpoint(model=model)\n",
    "manager = tf.train.CheckpointManager(checkpoint, checkpoint_dir, max_to_keep=3)"
   ]
  },
  {
   "cell_type": "code",
   "execution_count": 29,
   "metadata": {},
   "outputs": [
    {
     "output_type": "stream",
     "name": "stdout",
     "text": "--------- EPOCH  0 -----------\nEpoch: 0, Batch: 0, Loss: 46.821537\nEpoch: 0, Batch: 5, Loss: 14.260431\nSentence #:  205\nWord            Pred : (True)\n==============================\nR              :O     (O)\nBUTTOCK        :O     (O)\nPAIN           :O     (O)\n:              :O     (O)\nmuscular       :O     (O)\nspasm          :O     (O)\nvs             :O     (O)\nherniated      :O     (O)\ndisc           :O     (O)\n-              :O     (O)\navoid          :O     (O)\nsignificant    :O     (O)\nNSAI           :O     (O)\nDs             :O     (O)\ngiven          :O     (O)\nCRI            :O     (O)\n-              :O     (O)\nmorphine       :O     (O)\n,              :O     (O)\npercocet       :O     (O)\n.              :O     (O)\n--------- EPOCH  1 -----------\nEpoch: 1, Batch: 0, Loss: 9.097906\nEpoch: 1, Batch: 5, Loss: 7.009502\n--------- EPOCH  2 -----------\nEpoch: 2, Batch: 0, Loss: 7.349750\nEpoch: 2, Batch: 5, Loss: 4.509981\n--------- EPOCH  3 -----------\nEpoch: 3, Batch: 0, Loss: 6.501145\nEpoch: 3, Batch: 5, Loss: 7.315049\n--------- EPOCH  4 -----------\nEpoch: 4, Batch: 0, Loss: 2.948690\nEpoch: 4, Batch: 5, Loss: 3.194570\n--------- EPOCH  5 -----------\nEpoch: 5, Batch: 0, Loss: 2.325805\nEpoch: 5, Batch: 5, Loss: 1.314714\n--------- EPOCH  6 -----------\nEpoch: 6, Batch: 0, Loss: 2.024580\nEpoch: 6, Batch: 5, Loss: 1.134892\n--------- EPOCH  7 -----------\nEpoch: 7, Batch: 0, Loss: 1.905153\nEpoch: 7, Batch: 5, Loss: 1.020171\n--------- EPOCH  8 -----------\nEpoch: 8, Batch: 0, Loss: 0.741328\nEpoch: 8, Batch: 5, Loss: 0.462662\n--------- EPOCH  9 -----------\nEpoch: 9, Batch: 0, Loss: 0.188773\nEpoch: 9, Batch: 5, Loss: 0.359927\n"
    },
    {
     "output_type": "execute_result",
     "data": {
      "text/plain": "[<tf.Tensor: shape=(), dtype=float32, numpy=195.1694>,\n <tf.Tensor: shape=(), dtype=float32, numpy=79.40908>,\n <tf.Tensor: shape=(), dtype=float32, numpy=58.5198>,\n <tf.Tensor: shape=(), dtype=float32, numpy=37.968784>,\n <tf.Tensor: shape=(), dtype=float32, numpy=24.6073>,\n <tf.Tensor: shape=(), dtype=float32, numpy=16.798903>,\n <tf.Tensor: shape=(), dtype=float32, numpy=10.279422>,\n <tf.Tensor: shape=(), dtype=float32, numpy=6.9144254>,\n <tf.Tensor: shape=(), dtype=float32, numpy=4.465953>,\n <tf.Tensor: shape=(), dtype=float32, numpy=2.3829906>]"
     },
     "metadata": {},
     "execution_count": 29
    }
   ],
   "source": [
    "# train model\n",
    "train(model,X_train,y_train,batch_size = 32, epochs=10,sample_interval=10,manager=manager,pp=pp)"
   ]
  },
  {
   "cell_type": "code",
   "execution_count": null,
   "metadata": {},
   "outputs": [],
   "source": [
    "print(\"done vanilla models!\")"
   ]
  },
  {
   "cell_type": "code",
   "execution_count": 63,
   "metadata": {},
   "outputs": [
    {
     "output_type": "stream",
     "name": "stdout",
     "text": "Sentence #:  41\nWord            Pred : (True)\n==============================\nAbdomen        :O     (O)\nSoft           :O     (O)\nwithout        :O     (O)\nhepatosplenomegaly:O     (O)\n,              :O     (O)\nmass           :O     (O)\nor             :O     (O)\nascites        :O     (O)\n.              :O     (O)\n"
    }
   ],
   "source": [
    "sample_output(model,X_train,y_train, pp = pp,rand_idx=None)"
   ]
  },
  {
   "cell_type": "code",
   "execution_count": 47,
   "metadata": {
    "scrolled": true
   },
   "outputs": [],
   "source": [
    "from src.models.transformer import Transformer\n",
    "# build model\n",
    "model = Transformer(pp.vocab_size,pp.tag_size,pp.max_len)\n",
    "checkpoint_dir = 'models/checkpoints/' + train_data.title + '/' + model.title + '/' \n",
    "if not os.path.exists(checkpoint_dir):\n",
    "    os.makedirs(checkpoint_dir)\n",
    "checkpoint = tf.train.Checkpoint(model=model)\n",
    "manager = tf.train.CheckpointManager(checkpoint, checkpoint_dir, max_to_keep=3)"
   ]
  },
  {
   "cell_type": "code",
   "execution_count": 48,
   "metadata": {
    "tags": [
     "outputPrepend",
     "outputPrepend",
     "outputPrepend",
     "outputPrepend",
     "outputPrepend",
     "outputPrepend",
     "outputPrepend",
     "outputPrepend",
     "outputPrepend",
     "outputPrepend",
     "outputPrepend",
     "outputPrepend",
     "outputPrepend",
     "outputPrepend",
     "outputPrepend",
     "outputPrepend",
     "outputPrepend",
     "outputPrepend"
    ]
   },
   "outputs": [
    {
     "output_type": "stream",
     "name": "stdout",
     "text": "--------- EPOCH  0 -----------\nEpoch: 0, Batch: 0, Loss: 2420.453369\nEpoch: 0, Batch: 5, Loss: 330.727173\nSentence #:  178\nWord            Pred : (True)\n==============================\nMild           :O     (O)\nR              :O     (O)\nbuttock        :O     (O)\ntenderness     :O     (O)\n.              :O     (O)\n--------- EPOCH  1 -----------\nEpoch: 1, Batch: 0, Loss: 381.727234\nEpoch: 1, Batch: 5, Loss: 690.594238\n--------- EPOCH  2 -----------\nEpoch: 2, Batch: 0, Loss: 260.386139\nEpoch: 2, Batch: 5, Loss: 190.585938\n--------- EPOCH3 -----------\nEpoch: 3, Batch: 0, Loss: 484.448547\nEpoch: 3, Batch: 5, Loss: 219.343170\n--------- EPOCH  4 -----------\nEpoch: 4, Batch: 0, Loss: 179.624207\nEpoch: 4, Batch: 5, Loss: 184.797394\n--------- EPOCH  5 -----------\nEpoch: 5, Batch: 0, Loss: 188.531479\nEpoch: 5, Batch: 5, Loss: 108.586884\n--------- EPOCH  6 -----------\nEpoch: 6, Batch: 0, Loss: 31.532297\nEpoch: 6, Batch: 5, Loss: 83.518013\n--------- EPOCH  7 -----------\nEpoch: 7, Batch: 0, Loss: 23.492496\nEpoch: 7, Batch: 5, Loss: 67.142113\n--------- EPOCH  8 -----------\nEpoch: 8, Batch: 0, Loss: 43.795677\nEpoch: 8, Batch: 5, Loss: 22.131731\n--------- EPOCH  9 -----------\nEpoch: 9, Batch: 0, Loss: 53.908817\nEpoch: 9, Batch: 5, Loss: 70.643852\n--------- EPOCH 10 -----------\nEpoch: 10, Batch: 0, Loss: 73.401779\nEpoch: 10, Batch: 5, Loss: 7.780956\nSentence #:  168\nWord            Pred : (True)\n==============================\n-              :O     (O)\n6              :O     (B-DATE)\n/              :I-DATE (I-DATE)\n71             :I-DATE (I-DATE)\ndevelopment    :O     (O)\nof             :O     (O)\nneuropathic    :O     (O)\nulcer          :O     (O)\nat             :O     (O)\nmetatarsal     :O     (O)\nhead           :O     (O)\nof             :O     (O)\nR              :O     (O)\n2              :O     (O)\n.              :O     (O)\n--------- EPOCH  11 -----------\nEpoch: 11, Batch: 0, Loss: 27.961811\nEpoch: 11, Batch: 5, Loss: 55.300224\n--------- EPOCH  12 -----------\nEpoch: 12, Batch: 0, Loss: 57.658653\nEpoch: 12, Batch: 5, Loss: 24.734722\n--------- EPOCH  13 -----------\nEpoch: 13, Batch: 0, Loss: 16.056772\nEpoch: 13, Batch: 5, Loss: 12.511642\n--------- EPOCH 14 -----------\nEpoch: 14, Batch: 0, Loss: 26.094608\nEpoch: 14, Batch: 5, Loss: 30.654440\n--------- EPOCH  15 -----------\nEpoch: 15, Batch: 0, Loss: 79.793541\nEpoch: 15, Batch: 5, Loss: 41.400982\n--------- EPOCH  16 -----------\nEpoch: 16, Batch: 0, Loss: 8.014786\nEpoch: 16, Batch: 5, Loss: 27.877674\n--------- EPOCH  17 -----------\nEpoch: 17, Batch: 0, Loss: 52.291420\nEpoch: 17, Batch: 5, Loss: 19.750477\n--------- EPOCH  18 -----------\nEpoch: 18, Batch: 0, Loss: 29.323845\nEpoch: 18, Batch: 5, Loss: 68.155930\n--------- EPOCH  19 -----------\nEpoch: 19, Batch: 0, Loss: 55.786789\nEpoch: 19, Batch: 5, Loss: 25.915869\n"
    },
    {
     "output_type": "execute_result",
     "data": {
      "text/plain": "[<tf.Tensor: shape=(), dtype=float32, numpy=4873.0864>,\n <tf.Tensor: shape=(), dtype=float32, numpy=2548.2107>,\n <tf.Tensor: shape=(), dtype=float32, numpy=1810.1182>,\n <tf.Tensor: shape=(), dtype=float32, numpy=1390.8214>,\n <tf.Tensor: shape=(), dtype=float32, numpy=902.7467>,\n <tf.Tensor: shape=(), dtype=float32, numpy=743.9336>,\n <tf.Tensor: shape=(), dtype=float32, numpy=570.60254>,\n <tf.Tensor: shape=(), dtype=float32, numpy=530.0657>,\n <tf.Tensor: shape=(), dtype=float32, numpy=465.03625>,\n <tf.Tensor: shape=(), dtype=float32, numpy=395.00317>,\n <tf.Tensor: shape=(), dtype=float32, numpy=379.0114>,\n <tf.Tensor: shape=(), dtype=float32, numpy=328.02307>,\n <tf.Tensor: shape=(), dtype=float32, numpy=269.7553>,\n <tf.Tensor: shape=(), dtype=float32, numpy=263.69153>,\n <tf.Tensor: shape=(), dtype=float32, numpy=272.52>,\n <tf.Tensor: shape=(), dtype=float32, numpy=244.89488>,\n <tf.Tensor: shape=(), dtype=float32, numpy=225.9397>,\n <tf.Tensor: shape=(), dtype=float32, numpy=212.97105>,\n <tf.Tensor: shape=(), dtype=float32, numpy=196.36845>,\n <tf.Tensor: shape=(), dtype=float32, numpy=172.97351>]"
     },
     "metadata": {},
     "execution_count": 48
    }
   ],
   "source": [
    "# train transformer\n",
    "\n",
    "train(model,X_train,y_train,batch_size = 32, epochs = 20,sample_interval=10,manager=manager,pp=pp)\n",
    ""
   ]
  },
  {
   "cell_type": "code",
   "execution_count": null,
   "metadata": {},
   "outputs": [],
   "source": []
  }
 ],
 "metadata": {
  "kernelspec": {
   "display_name": "Python 3",
   "language": "python",
   "name": "python3"
  },
  "language_info": {
   "codemirror_mode": {
    "name": "ipython",
    "version": 3
   },
   "file_extension": ".py",
   "mimetype": "text/x-python",
   "name": "python",
   "nbconvert_exporter": "python",
   "pygments_lexer": "ipython3",
   "version": "3.7.6-final"
  }
 },
 "nbformat": 4,
 "nbformat_minor": 2
}